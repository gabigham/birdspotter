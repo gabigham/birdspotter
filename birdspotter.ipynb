{
 "cells": [
  {
   "cell_type": "markdown",
   "metadata": {},
   "source": [
    "## Birdspotter is a keras machine learning model to identify images that contain birds\n",
    "\n",
    "Written by George Bigham\n"
   ]
  },
  {
   "cell_type": "code",
   "execution_count": 8,
   "metadata": {},
   "outputs": [
    {
     "name": "stderr",
     "output_type": "stream",
     "text": [
      "Using TensorFlow backend.\n"
     ]
    }
   ],
   "source": [
    "import keras\n",
    "from keras.preprocessing.image import load_img\n",
    "from keras.preprocessing.image import img_to_array\n",
    "from keras.preprocessing.image import array_to_img"
   ]
  },
  {
   "cell_type": "code",
   "execution_count": 9,
   "metadata": {},
   "outputs": [
    {
     "name": "stdout",
     "output_type": "stream",
     "text": [
      "<class 'PIL.JpegImagePlugin.JpegImageFile'>\n",
      "JPEG\n",
      "RGB\n",
      "(500, 333)\n"
     ]
    }
   ],
   "source": [
    "# example of loading an image with the Keras API\n",
    "from keras.preprocessing.image import load_img\n",
    "# load the image\n",
    "img = load_img('data/test.jpg')\n",
    "# report details about the image\n",
    "print(type(img))\n",
    "print(img.format)\n",
    "print(img.mode)\n",
    "print(img.size)\n",
    "# show the image\n",
    "img.show()"
   ]
  },
  {
   "cell_type": "code",
   "execution_count": 12,
   "metadata": {},
   "outputs": [
    {
     "name": "stdout",
     "output_type": "stream",
     "text": [
      "float32\n",
      "(333, 500, 3)\n"
     ]
    }
   ],
   "source": [
    "# convert image to array\n",
    "img_array = img_to_array(img)\n",
    "print(img_array.dtype)\n",
    "print(img_array.shape)"
   ]
  },
  {
   "cell_type": "code",
   "execution_count": 13,
   "metadata": {},
   "outputs": [
    {
     "data": {
      "text/plain": [
       "array([[[103., 107.,  82.],\n",
       "        [102., 106.,  81.],\n",
       "        [102., 106.,  81.],\n",
       "        ...,\n",
       "        [ 90., 109.,  64.],\n",
       "        [ 91., 110.,  65.],\n",
       "        [ 91., 110.,  65.]],\n",
       "\n",
       "       [[102., 106.,  81.],\n",
       "        [102., 106.,  81.],\n",
       "        [101., 105.,  80.],\n",
       "        ...,\n",
       "        [ 90., 109.,  64.],\n",
       "        [ 90., 109.,  64.],\n",
       "        [ 89., 111.,  65.]],\n",
       "\n",
       "       [[102., 106.,  81.],\n",
       "        [101., 105.,  80.],\n",
       "        [101., 105.,  80.],\n",
       "        ...,\n",
       "        [ 89., 108.,  63.],\n",
       "        [ 88., 110.,  64.],\n",
       "        [ 89., 111.,  65.]],\n",
       "\n",
       "       ...,\n",
       "\n",
       "       [[ 79.,  81.,  60.],\n",
       "        [ 78.,  82.,  59.],\n",
       "        [ 79.,  83.,  60.],\n",
       "        ...,\n",
       "        [ 98., 113.,  92.],\n",
       "        [ 98., 111.,  94.],\n",
       "        [101., 103.,  92.]],\n",
       "\n",
       "       [[ 78.,  81.,  60.],\n",
       "        [ 79.,  82.,  61.],\n",
       "        [ 80.,  84.,  61.],\n",
       "        ...,\n",
       "        [ 98., 111., 101.],\n",
       "        [ 99., 100.,  95.],\n",
       "        [170., 165., 161.]],\n",
       "\n",
       "       [[ 77.,  80.,  59.],\n",
       "        [ 79.,  82.,  61.],\n",
       "        [ 80.,  83.,  62.],\n",
       "        ...,\n",
       "        [ 93., 106.,  97.],\n",
       "        [148., 142., 144.],\n",
       "        [196., 196., 188.]]], dtype=float32)"
      ]
     },
     "execution_count": 13,
     "metadata": {},
     "output_type": "execute_result"
    }
   ],
   "source": [
    "img_array"
   ]
  },
  {
   "cell_type": "code",
   "execution_count": 15,
   "metadata": {},
   "outputs": [
    {
     "name": "stdout",
     "output_type": "stream",
     "text": [
      "<class 'PIL.JpegImagePlugin.JpegImageFile'>\n",
      "JPEG\n",
      "RGB\n",
      "(333, 500)\n"
     ]
    }
   ],
   "source": [
    "img_test = load_img('dev/test.jpg')\n",
    "# report details about the image\n",
    "print(type(img_test))\n",
    "print(img_test.format)\n",
    "print(img_test.mode)\n",
    "print(img_test.size)\n",
    "# show the image\n",
    "img_test.show()"
   ]
  },
  {
   "cell_type": "code",
   "execution_count": 18,
   "metadata": {},
   "outputs": [
    {
     "name": "stdout",
     "output_type": "stream",
     "text": [
      "<class 'PIL.JpegImagePlugin.JpegImageFile'>\n",
      "JPEG\n",
      "RGB\n",
      "(472, 500)\n"
     ]
    }
   ],
   "source": [
    "img_test2 = load_img('dev/test2.jpg')\n",
    "# report details about the image\n",
    "print(type(img_test2))\n",
    "print(img_test2.format)\n",
    "print(img_test2.mode)\n",
    "print(img_test2.size)\n",
    "# show the image\n",
    "img_test2.show()"
   ]
  },
  {
   "cell_type": "code",
   "execution_count": null,
   "metadata": {},
   "outputs": [],
   "source": [
    "train_datagen = ImageDataGenerator(\n",
    "        rescale=1./255,\n",
    "        shear_range=0.2,\n",
    "        zoom_range=0.2,\n",
    "        horizontal_flip=True)\n",
    "\n",
    "test_datagen = ImageDataGenerator(rescale=1./255)\n",
    "\n",
    "train_generator = train_datagen.flow_from_directory(\n",
    "        'data/train',\n",
    "        target_size=(150, 150),\n",
    "        batch_size=32,\n",
    "        class_mode='binary')\n",
    "\n",
    "validation_generator = test_datagen.flow_from_directory(\n",
    "        'data/validation',\n",
    "        target_size=(150, 150),\n",
    "        batch_size=32,\n",
    "        class_mode='binary')\n",
    "\n",
    "model.fit_generator(\n",
    "        train_generator,\n",
    "        steps_per_epoch=2000,\n",
    "        epochs=50,\n",
    "        validation_data=validation_generator,\n",
    "        validation_steps=800)"
   ]
  },
  {
   "cell_type": "code",
   "execution_count": null,
   "metadata": {},
   "outputs": [],
   "source": []
  },
  {
   "cell_type": "code",
   "execution_count": null,
   "metadata": {},
   "outputs": [],
   "source": []
  },
  {
   "cell_type": "code",
   "execution_count": null,
   "metadata": {},
   "outputs": [],
   "source": []
  },
  {
   "cell_type": "code",
   "execution_count": 8,
   "metadata": {},
   "outputs": [
    {
     "name": "stdout",
     "output_type": "stream",
     "text": [
      "<class 'PIL.JpegImagePlugin.JpegImageFile'>\n"
     ]
    }
   ],
   "source": [
    "# convert back to image\n",
    "img_pil = array_to_img(img_array)\n",
    "print(type(img))\n",
    "img_pil.show()"
   ]
  },
  {
   "cell_type": "code",
   "execution_count": null,
   "metadata": {},
   "outputs": [],
   "source": []
  },
  {
   "cell_type": "code",
   "execution_count": null,
   "metadata": {},
   "outputs": [],
   "source": []
  },
  {
   "cell_type": "code",
   "execution_count": null,
   "metadata": {},
   "outputs": [],
   "source": []
  },
  {
   "cell_type": "code",
   "execution_count": null,
   "metadata": {},
   "outputs": [],
   "source": []
  },
  {
   "cell_type": "code",
   "execution_count": 2,
   "metadata": {},
   "outputs": [
    {
     "data": {
      "text/plain": [
       "['005.Crested_Auklet',\n",
       " '015.Lazuli_Bunting',\n",
       " '156.White_eyed_Vireo',\n",
       " '081.Pied_Kingfisher',\n",
       " '135.Bank_Swallow',\n",
       " '200.Common_Yellowthroat',\n",
       " '086.Pacific_Loon',\n",
       " '067.Anna_Hummingbird',\n",
       " '076.Dark_eyed_Junco',\n",
       " '149.Brown_Thrasher',\n",
       " '127.Savannah_Sparrow',\n",
       " '041.Scissor_tailed_Flycatcher',\n",
       " '141.Artic_Tern',\n",
       " '082.Ringed_Kingfisher',\n",
       " '099.Ovenbird',\n",
       " '013.Bobolink',\n",
       " '104.American_Pipit',\n",
       " '023.Brandt_Cormorant',\n",
       " '168.Kentucky_Warbler',\n",
       " '072.Pomarine_Jaeger',\n",
       " '040.Olive_sided_Flycatcher',\n",
       " '185.Bohemian_Waxwing',\n",
       " '144.Common_Tern',\n",
       " '034.Gray_crowned_Rosy_Finch',\n",
       " '126.Nelson_Sharp_tailed_Sparrow',\n",
       " '163.Cape_May_Warbler',\n",
       " '043.Yellow_bellied_Flycatcher',\n",
       " '084.Red_legged_Kittiwake',\n",
       " '089.Hooded_Merganser',\n",
       " '116.Chipping_Sparrow',\n",
       " '029.American_Crow',\n",
       " '.DS_Store',\n",
       " '035.Purple_Finch',\n",
       " '026.Bronzed_Cowbird',\n",
       " '114.Black_throated_Sparrow',\n",
       " '188.Pileated_Woodpecker',\n",
       " '108.White_necked_Raven',\n",
       " '158.Bay_breasted_Warbler',\n",
       " '154.Red_eyed_Vireo',\n",
       " '047.American_Goldfinch',\n",
       " '162.Canada_Warbler',\n",
       " '102.Western_Wood_Pewee',\n",
       " '096.Hooded_Oriole',\n",
       " '189.Red_bellied_Woodpecker',\n",
       " '182.Yellow_Warbler',\n",
       " '195.Carolina_Wren',\n",
       " '010.Red_winged_Blackbird',\n",
       " '017.Cardinal',\n",
       " '059.California_Gull',\n",
       " '161.Blue_winged_Warbler',\n",
       " '004.Groove_billed_Ani',\n",
       " '190.Red_cockaded_Woodpecker',\n",
       " '121.Grasshopper_Sparrow',\n",
       " '080.Green_Kingfisher',\n",
       " '150.Sage_Thrasher',\n",
       " '167.Hooded_Warbler',\n",
       " '119.Field_Sparrow',\n",
       " '110.Geococcyx',\n",
       " '122.Harris_Sparrow',\n",
       " '103.Sayornis',\n",
       " '077.Tropical_Kingbird',\n",
       " '197.Marsh_Wren',\n",
       " '038.Great_Crested_Flycatcher',\n",
       " '006.Least_Auklet',\n",
       " '180.Wilson_Warbler',\n",
       " '146.Forsters_Tern',\n",
       " '031.Black_billed_Cuckoo',\n",
       " '045.Northern_Fulmar',\n",
       " '107.Common_Raven',\n",
       " '056.Pine_Grosbeak',\n",
       " '091.Mockingbird',\n",
       " '196.House_Wren',\n",
       " '079.Belted_Kingfisher',\n",
       " '052.Pied_billed_Grebe',\n",
       " '049.Boat_tailed_Grackle',\n",
       " '065.Slaty_backed_Gull',\n",
       " '140.Summer_Tanager',\n",
       " '130.Tree_Sparrow',\n",
       " '050.Eared_Grebe',\n",
       " '071.Long_tailed_Jaeger',\n",
       " '088.Western_Meadowlark',\n",
       " '021.Eastern_Towhee',\n",
       " '128.Seaside_Sparrow',\n",
       " '063.Ivory_Gull',\n",
       " '171.Myrtle_Warbler',\n",
       " '048.European_Goldfinch',\n",
       " '152.Blue_headed_Vireo',\n",
       " '186.Cedar_Waxwing',\n",
       " '094.White_breasted_Nuthatch',\n",
       " '166.Golden_winged_Warbler',\n",
       " '118.House_Sparrow',\n",
       " '173.Orange_crowned_Warbler',\n",
       " '177.Prothonotary_Warbler',\n",
       " '139.Scarlet_Tanager',\n",
       " '187.American_Three_toed_Woodpecker',\n",
       " '133.White_throated_Sparrow',\n",
       " '191.Red_headed_Woodpecker',\n",
       " '101.White_Pelican',\n",
       " '083.White_breasted_Kingfisher',\n",
       " '009.Brewer_Blackbird',\n",
       " '011.Rusty_Blackbird',\n",
       " '137.Cliff_Swallow',\n",
       " '192.Downy_Woodpecker',\n",
       " '157.Yellow_throated_Vireo',\n",
       " '115.Brewer_Sparrow',\n",
       " '027.Shiny_Cowbird',\n",
       " '100.Brown_Pelican',\n",
       " '134.Cape_Glossy_Starling',\n",
       " '117.Clay_colored_Sparrow',\n",
       " '025.Pelagic_Cormorant',\n",
       " '053.Western_Grebe',\n",
       " '002.Laysan_Albatross',\n",
       " '143.Caspian_Tern',\n",
       " '153.Philadelphia_Vireo',\n",
       " '014.Indigo_Bunting',\n",
       " '178.Swainson_Warbler',\n",
       " '169.Magnolia_Warbler',\n",
       " '092.Nighthawk',\n",
       " '109.American_Redstart',\n",
       " '098.Scott_Oriole',\n",
       " '159.Black_and_white_Warbler',\n",
       " '165.Chestnut_sided_Warbler',\n",
       " '148.Green_tailed_Towhee',\n",
       " '058.Pigeon_Guillemot',\n",
       " '155.Warbling_Vireo',\n",
       " '060.Glaucous_winged_Gull',\n",
       " '145.Elegant_Tern',\n",
       " '066.Western_Gull',\n",
       " '111.Loggerhead_Shrike',\n",
       " '075.Green_Jay',\n",
       " '164.Cerulean_Warbler',\n",
       " '093.Clark_Nutcracker',\n",
       " '057.Rose_breasted_Grosbeak',\n",
       " '069.Rufous_Hummingbird',\n",
       " '012.Yellow_headed_Blackbird',\n",
       " '062.Herring_Gull',\n",
       " '183.Northern_Waterthrush',\n",
       " '055.Evening_Grosbeak',\n",
       " '184.Louisiana_Waterthrush',\n",
       " '131.Vesper_Sparrow',\n",
       " '136.Barn_Swallow',\n",
       " '064.Ring_billed_Gull',\n",
       " '174.Palm_Warbler',\n",
       " '123.Henslow_Sparrow',\n",
       " '019.Gray_Catbird',\n",
       " '078.Gray_Kingbird',\n",
       " '016.Painted_Bunting',\n",
       " '106.Horned_Puffin',\n",
       " '120.Fox_Sparrow',\n",
       " '147.Least_Tern',\n",
       " '074.Florida_Jay',\n",
       " '070.Green_Violetear',\n",
       " '022.Chuck_will_Widow',\n",
       " '030.Fish_Crow',\n",
       " '176.Prairie_Warbler',\n",
       " '024.Red_faced_Cormorant',\n",
       " '129.Song_Sparrow',\n",
       " '042.Vermilion_Flycatcher',\n",
       " '090.Red_breasted_Merganser',\n",
       " '033.Yellow_billed_Cuckoo',\n",
       " '001.Black_footed_Albatross',\n",
       " '160.Black_throated_Blue_Warbler',\n",
       " '105.Whip_poor_Will',\n",
       " '179.Tennessee_Warbler',\n",
       " '036.Northern_Flicker',\n",
       " '008.Rhinoceros_Auklet',\n",
       " '097.Orchard_Oriole',\n",
       " '095.Baltimore_Oriole',\n",
       " '032.Mangrove_Cuckoo',\n",
       " '151.Black_capped_Vireo',\n",
       " '037.Acadian_Flycatcher',\n",
       " '044.Frigatebird',\n",
       " '193.Bewick_Wren',\n",
       " '125.Lincoln_Sparrow',\n",
       " '170.Mourning_Warbler',\n",
       " '172.Nashville_Warbler',\n",
       " '073.Blue_Jay',\n",
       " '138.Tree_Swallow',\n",
       " '132.White_crowned_Sparrow',\n",
       " '198.Rock_Wren',\n",
       " '124.Le_Conte_Sparrow',\n",
       " '199.Winter_Wren',\n",
       " '003.Sooty_Albatross',\n",
       " '085.Horned_Lark',\n",
       " '142.Black_Tern',\n",
       " '181.Worm_eating_Warbler',\n",
       " '068.Ruby_throated_Hummingbird',\n",
       " '112.Great_Grey_Shrike',\n",
       " '028.Brown_Creeper',\n",
       " '018.Spotted_Catbird',\n",
       " '087.Mallard',\n",
       " '051.Horned_Grebe',\n",
       " '007.Parakeet_Auklet',\n",
       " '039.Least_Flycatcher',\n",
       " '020.Yellow_breasted_Chat',\n",
       " '113.Baird_Sparrow',\n",
       " '194.Cactus_Wren',\n",
       " '061.Heermann_Gull',\n",
       " '175.Pine_Warbler',\n",
       " '046.Gadwall',\n",
       " '054.Blue_Grosbeak']"
      ]
     },
     "execution_count": 2,
     "metadata": {},
     "output_type": "execute_result"
    }
   ],
   "source": [
    "import shutil\n",
    "import os\n",
    "\n",
    "source = 'images/'\n",
    "# dest1 = '/path/to/dest_folder'\n",
    "\n",
    "names = os.listdir(source)\n",
    "names"
   ]
  },
  {
   "cell_type": "code",
   "execution_count": 14,
   "metadata": {},
   "outputs": [],
   "source": [
    "dest = 'data/'\n",
    "\n",
    "for name in names:\n",
    "    if name != '.DS_Store':\n",
    "        files = os.listdir(source + name)\n",
    "        for file in files:\n",
    "            shutil.copy(source + name + '/' + file, dest)"
   ]
  }
 ],
 "metadata": {
  "kernelspec": {
   "display_name": "Python 3",
   "language": "python",
   "name": "python3"
  },
  "language_info": {
   "codemirror_mode": {
    "name": "ipython",
    "version": 3
   },
   "file_extension": ".py",
   "mimetype": "text/x-python",
   "name": "python",
   "nbconvert_exporter": "python",
   "pygments_lexer": "ipython3",
   "version": "3.6.8"
  }
 },
 "nbformat": 4,
 "nbformat_minor": 2
}
